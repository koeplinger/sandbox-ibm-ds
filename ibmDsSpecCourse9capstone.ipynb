{
    "nbformat_minor": 1, 
    "cells": [
        {
            "source": "# Car ride-share potential in mid-size U.S. cities from geographic spread\n\n## Capstone assignment for the IBM Data Science specialization on Coursera\n\n19 March 2019, Jens Koeplinger\n\n### Location\n\nThe assignment reque", 
            "cell_type": "markdown", 
            "metadata": {
                "collapsed": true
            }
        }, 
        {
            "source": "The content of this assignment is split across multiple notebooks due to size:\n\n* __[Notebook 1: Geographic venue distribution algorihm](https://dataplatform.cloud.ibm.com/analytics/notebooks/v2/11eca5ed-7b53-45a3-a70d-987f74318160/view?access_token=ea04f9ff09d80551dcf0160fde097fc8ff4f06d1485b9fed5298cfa3a1b62301)__\n* __[Notesbok 2: Step by step test and execution of the algorithm on Arlington, TX](https://dataplatform.cloud.ibm.com/analytics/notebooks/v2/51031e70-4bab-40b8-a0d4-1c87913d55a3/view?access_token=6dedcfb8b7e335517555c337b2d40d509a2e53bc3f4a87ea4facd4525daf5737)__\n", 
            "cell_type": "markdown", 
            "metadata": {}
        }, 
        {
            "execution_count": null, 
            "cell_type": "code", 
            "metadata": {}, 
            "outputs": [], 
            "source": ""
        }
    ], 
    "metadata": {
        "kernelspec": {
            "display_name": "Python 3.5", 
            "name": "python3", 
            "language": "python"
        }, 
        "language_info": {
            "mimetype": "text/x-python", 
            "nbconvert_exporter": "python", 
            "version": "3.5.5", 
            "name": "python", 
            "file_extension": ".py", 
            "pygments_lexer": "ipython3", 
            "codemirror_mode": {
                "version": 3, 
                "name": "ipython"
            }
        }
    }, 
    "nbformat": 4
}