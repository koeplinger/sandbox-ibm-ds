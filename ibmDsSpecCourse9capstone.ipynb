{
    "nbformat_minor": 1, 
    "cells": [
        {
            "source": "# Car ride-share potential in mid-size U.S. cities from geographic spread\n\n## Capstone assignment for the IBM Data Science specialization on Coursera\n\n19 March 2019, Jens Koeplinger (updated 21 March)", 
            "cell_type": "markdown", 
            "metadata": {
                "collapsed": true
            }
        }, 
        {
            "source": "## Assignent\n\n### Overview presentation\n\n__[PDF presentation (overview)](https://github.com/koeplinger/sandbox-ibm-ds/blob/master/carRideShareAnalysisPres.pdf)__\n\n### Full report\n\n__[PDF report, including all results](https://github.com/koeplinger/sandbox-ibm-ds/blob/master/carRideShareAnalysisReport.pdf)__\n\n### Jupyter notebooks (all code, tests, raw results)\n\nThe content of this assignment is split across multiple notebooks due to size:\n\n* __[Notebook 1: Geographic venue distribution algorihm](https://dataplatform.cloud.ibm.com/analytics/notebooks/v2/11eca5ed-7b53-45a3-a70d-987f74318160/view?access_token=ea04f9ff09d80551dcf0160fde097fc8ff4f06d1485b9fed5298cfa3a1b62301)__\n* __[Notebook 2: Step by step test and execution of the algorithm on Arlington, TX](https://dataplatform.cloud.ibm.com/analytics/notebooks/v2/51031e70-4bab-40b8-a0d4-1c87913d55a3/view?access_token=6dedcfb8b7e335517555c337b2d40d509a2e53bc3f4a87ea4facd4525daf5737)__\n* __[Notebook 3 Template: Used for all other cities](https://dataplatform.cloud.ibm.com/analytics/notebooks/v2/080e95e9-a8bf-4e1d-8d7f-db4acb31dcaf/view?access_token=10574c24581c1c5807235c64a40908aa1783f468a42347fee8fb301a02895d21)__\n  1. __[Notebook 3 New Orleans, LA](https://dataplatform.cloud.ibm.com/analytics/notebooks/v2/9a04fb51-ad3a-4eb9-a36f-2f52d7d03c81/view?access_token=afb0c0dd1287da450e31c8a3229f6970343c3a8a302e661cc83a81ae6a3c0c22)__\n  2. __[Notebook 3 Wichita, KS](https://dataplatform.cloud.ibm.com/analytics/notebooks/v2/303a4f13-63b4-498c-9ee6-9b2c2c78f520/view?access_token=d7a924cdb6bd54137a658cc0cb8c2196443af04acc07a90768ff258a28b8485b)__\n  3. __[Notebook 3 Cleveland, OH](https://dataplatform.cloud.ibm.com/analytics/notebooks/v2/cc81aeda-6d45-48f2-b7d7-b7c6d77bc208/view?access_token=0b8048a93fc6950270521aee0f95208492f60b0eae9427764ade80e80caf7284)__\n  4. __[Notebook 3 Tampa, FL](https://dataplatform.cloud.ibm.com/analytics/notebooks/v2/3ce47e63-8387-4a6f-9694-77ed90900aef/view?access_token=c12169f779b87c597d97ddc32c8cefbad27614bc4404fabb3ea93cf30300b6b0)__\n  5. __[Notebook 3 Bakersfield, CA](https://dataplatform.cloud.ibm.com/analytics/notebooks/v2/98e5929a-a431-4415-b84d-fdfd3878f930/view?access_token=f44f2a1d5035b60ed98a707b10434ebd98d19ee3337ef566b0bb897434f0ff77)__\n  6. __[Notebook 3 Aurora, CO](https://dataplatform.cloud.ibm.com/analytics/notebooks/v2/4e0dec12-0023-4383-ab20-61028674a273/view?access_token=2e2a757c37da36e8eca35c636034ee573625ed21a2d83fc0b677421e6dd9ea0b)__\n  7. __[Notebook 3 Anaheim, CA](https://dataplatform.cloud.ibm.com/analytics/notebooks/v2/1caa186c-d453-4b8c-9e7e-9af87d6b963d/view?access_token=114fe215ee853da86b40a4a042cc41007fbf855f891d44097d4d8bfe58545c88)__\n  8. __[Notebook 3 Honolulu, HI](https://dataplatform.cloud.ibm.com/analytics/notebooks/v2/13c67c44-fbc9-498e-bf2a-2cf2dd0dfb80/view?access_token=3cafcf9b39abfdbe7fac74e0c161bf919d8e72b02bca3a4629573d3ec38577d2)__\n  9. __[Notebook 3 Santa Ana, CA](https://dataplatform.cloud.ibm.com/analytics/notebooks/v2/cd06c813-33a3-4c65-8d56-e56b8921d08b/view?access_token=41de19ddfdcf5340382b3a50a445f1fe7a7dae15a606b22599f13a969c372e23)__\n  10. __[Notebook 3 Riverside, CA](https://dataplatform.cloud.ibm.com/analytics/notebooks/v2/acedcb1d-942c-4032-82ae-6426127ca30b/view?access_token=cd7ffb888db28e0cbfd3bf4e22caa3273412f2b481c1b08f8277100be86b1647)__\n  11. __[Notebook 3 Corpus Christi, TX](https://dataplatform.cloud.ibm.com/analytics/notebooks/v2/1e9a7537-d886-4d7d-bc7a-796356adca44/view?access_token=048134d126f43a34e547a0aaec6ff95cfefd8557b0324725d924a528ba7756f6)__\n  12. __[Notebook 3 Lexington, KY](https://dataplatform.cloud.ibm.com/analytics/notebooks/v2/efde9462-5007-435a-995a-e08838780f5d/view?access_token=da3dcead4646f116dbb216061386d44c4d4ea426353f202c3abf59387ef7d75f)__\n  13. __[Notebook 3 Stockton, CA](https://dataplatform.cloud.ibm.com/analytics/notebooks/v2/7a2eabc8-6c8d-40b4-8f5d-af6e4142e697/view?access_token=7af32e481ec862c78d2ac6ef4c88a4985c43089ece98f864475249bbfe4ff717)__\n  14. __[Notebook 3 St. Louis, MO](https://dataplatform.cloud.ibm.com/analytics/notebooks/v2/7604e26e-3eb1-441e-8719-72e28781e9aa/view?access_token=b4059aa9ba4268618e2bfb338c644b7337112948255ee5e4b2f35ca9f9e0c89a)__\n  15. __[Notebook 3 Saint Paul, MN](https://dataplatform.cloud.ibm.com/analytics/notebooks/v2/fa55d6d8-f63a-4d98-aa54-89d63e8eb406/view?access_token=faaeaba057f92109035453c335fb1de096e579b48a6e83c3880391a9ac65a465)__\n  16. __[Notebook 3 Henderson, NV](https://dataplatform.cloud.ibm.com/analytics/notebooks/v2/3033126b-ff65-4a69-b584-7aa92561312a/view?access_token=de843815a7ef0493d50553a87b2155be5418f1962c209993ca708e5259110c01)__\n  17. __[Notebook 3 Pittsburg, PA](https://dataplatform.cloud.ibm.com/analytics/notebooks/v2/b22a8a9e-3468-4f32-bbb2-b5eab5b32238/view?access_token=4fae61ce21aa0a6e176fe8e1bd25fd82253c9096f49ebfa8bfd64b9b55cb9178)__\n  18. __[Notebook 3 Cincinnati, OH](https://dataplatform.cloud.ibm.com/analytics/notebooks/v2/84c5b9d8-1238-4b30-92a7-2a956a7fc812/view?access_token=fe508e5c149059c9cc52fbd15d494c5191155fb32d6f5eb135d687f85c86dfb8)__\n* __[Notebook 4: Clustering the results and making final selection](https://dataplatform.cloud.ibm.com/analytics/notebooks/v2/f9fccd8d-03cd-4bb6-8a22-59c2b77119a2/view?access_token=d282d9d521c463ff375d9e991379d99e06a22f24814c69d278fee6c1a09f38f9)__\n", 
            "cell_type": "markdown", 
            "metadata": {}
        }, 
        {
            "source": "\n## File location notes\n\nThe assignment requests the notebook(s) to be on GitHub, which they are ( https://github.com/koeplinger/sandbox-ibm-ds/blob/master/ibmDsSpecCourse9capstone.ipynb ). Individual notebooks and image snapshots are all there ( https://github.com/koeplinger/sandbox-ibm-ds ), however, `folium` maps don't appear to render.\n\nTherefore, the below also contains links to the environment in which I created all of it (IBM Watson Studio).\n", 
            "cell_type": "markdown", 
            "metadata": {}
        }, 
        {
            "source": "", 
            "cell_type": "code", 
            "metadata": {}, 
            "outputs": [], 
            "execution_count": null
        }
    ], 
    "metadata": {
        "kernelspec": {
            "display_name": "Python 3.5", 
            "name": "python3", 
            "language": "python"
        }, 
        "language_info": {
            "mimetype": "text/x-python", 
            "nbconvert_exporter": "python", 
            "version": "3.5.5", 
            "name": "python", 
            "pygments_lexer": "ipython3", 
            "file_extension": ".py", 
            "codemirror_mode": {
                "version": 3, 
                "name": "ipython"
            }
        }
    }, 
    "nbformat": 4
}