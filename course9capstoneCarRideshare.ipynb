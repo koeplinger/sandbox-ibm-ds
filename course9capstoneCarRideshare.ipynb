{
    "nbformat_minor": 1, 
    "cells": [
        {
            "source": "# Car ride-share potential in mid-size U.S. cities from geographic spread\n\nThis notebook supports the IBM Data Science Specialization on Coursera, per official report PDF. For all details, see the PDF", 
            "cell_type": "markdown", 
            "metadata": {
                "collapsed": true
            }
        }, 
        {
            "source": "## Extract geographic location of mid-size U.S. cities\n\nThe 2017 U.S. census estimate for city size can be obtained from https://factfinder.census.gov/faces/tableservices/jsf/pages/productview.xhtml?src=bkmk . It is faithfully represented in a corresponding Wikipedia page https://en.wikipedia.org/w/index.php?title=List_of_United_States_cities_by_population&oldid=883568308 (retrieved 3 March 2019) from which it can be easily parsed.", 
            "cell_type": "markdown", 
            "metadata": {}
        }, 
        {
            "execution_count": 1, 
            "cell_type": "code", 
            "metadata": {}, 
            "outputs": [], 
            "source": "import pandas as pd\nimport numpy as np"
        }, 
        {
            "source": "Following https://medium.com/analytics-vidhya/web-scraping-wiki-tables-using-beautifulsoup-and-python-6b9ea26d8722 (retrieved 24 Feb 2019) using BeautifulSoup to get a parseable representation of the Wikipedia page, then load the table with all cities into `city_table`:", 
            "cell_type": "markdown", 
            "metadata": {}
        }, 
        {
            "execution_count": 43, 
            "cell_type": "code", 
            "metadata": {}, 
            "outputs": [
                {
                    "output_type": "stream", 
                    "name": "stdout", 
                    "text": "<table class=\"wikitable sortable\" style=\"text-align:center\"><tbody>\n\n<tr><th>2017<br/>rank</th><th>City</th><th>State<sup class=\"reference\" id=\"cite_ref-5\"><a href=\"#cite_note-5\">[5]</a></sup></th><th>2017<br/>estimate</th><th>2010<br/>Census</th><th>Change</th><th colspan=\"2\">2016 land area</th><th colspan=\"2\">2016 population density</th><th>Location</th></tr>\n\n<tr><td>1</td><td style=\"text-align:left;background-color:#cfecec\"><i><a href=\"/wiki/New_York_City\" title=\"New York \n\n   [...]\n\n\"latitude\">38\u00b021\u203214\u2033N</span> <span class=\"longitude\">121\u00b058\u203222\u2033W</span></span></span><span class=\"geo-multi-punct\">\ufeff / \ufeff</span><span class=\"geo-default\"><span class=\"vcard\"><span class=\"geo-dec\" title=\"Maps, aerial photos, and other data for this location\">38.3539\u00b0N 121.9728\u00b0W</span><span style=\"display:none\">\ufeff / <span class=\"geo\">38.3539; -121.9728</span></span><span style=\"display:none\">\ufeff (<span class=\"fn org\">Vacaville</span>)</span></span></span></a></span></small>\n</td></tr></tbody></table>\n"
                }
            ], 
            "source": "import requests\nurl = 'https://en.wikipedia.org/w/index.php?title=List_of_United_States_cities_by_population&oldid=883568308'\nwebsite_url = requests.get(url).text\n\nfrom bs4 import BeautifulSoup\nsoup = BeautifulSoup(website_url, 'lxml')\ncity_table = soup.find('table', { 'class' : 'wikitable sortable' })\nprint(\"{}\\n\\n   [...]\\n\\n{}\".format(str(city_table)[:500].replace('\\n', '').replace('<tr>', '\\n\\n<tr>'), str(city_table)[-500:]))"
        }, 
        {
            "source": "From `city_table` find all cities with an estimated 2017 population between 300,000 and 400,000 and parse out the latitude and longitude into numeric values:\n* City name is the second column (remove references in square brackets if present),\n* city state is the third column,\n* population is the 4th column (remove thousands-separator commas before interpreting as integer),\n* lattitude and longitude is contained in the 11th column, but has to be substring-filtered.", 
            "cell_type": "markdown", 
            "metadata": {}
        }, 
        {
            "execution_count": 56, 
            "cell_type": "code", 
            "metadata": {}, 
            "outputs": [
                {
                    "output_type": "stream", 
                    "name": "stdout", 
                    "text": "(ignoring empty row)\n         City name    City state  Population  Latitude  Longitude\n0        Arlington         Texas      396394   32.7007   -97.1247\n1      New Orleans     Louisiana      393292   30.0534   -89.9345\n2          Wichita        Kansas      390591   37.6907   -97.3459\n3        Cleveland          Ohio      385525   41.4785   -81.6794\n4            Tampa       Florida      385430   27.9701   -82.4797\n5      Bakersfield    California      380874   35.3212  -119.0183\n6           Aurora      Colorado      366623   39.6880  -104.6897\n7          Anaheim    California      352497   33.8555  -117.7601\n8         Honolulu        Hawaii      350395   21.3243  -157.8476\n9        Santa Ana    California      334136   33.7363  -117.8830\n10       Riverside    California      327728   33.9381  -117.3932\n11  Corpus Christi         Texas      325605   27.7543   -97.1734\n12       Lexington      Kentucky      321959   38.0407   -84.4583\n13        Stockton    California      310496   37.9763  -121.3133\n14       St. Louis      Missouri      308626   38.6357   -90.2446\n15      Saint Paul     Minnesota      306621   44.9489   -93.1041\n16       Henderson        Nevada      302539   36.0097  -115.0357\n17      Pittsburgh  Pennsylvania      302407   40.4398   -79.9766\n18      Cincinnati          Ohio      301301   39.1402   -84.5058\n"
                }
            ], 
            "source": "import re\n\nl = []\n\ntable_rows = My_table.find_all('tr')\nfor tr in table_rows:\n    td = tr.find_all('td')\n    row = [tr.text.strip() for tr in td]\n    if len(row) < 1:\n        print(\"(ignoring empty row)\")\n        test_size = 0\n    else:\n        test_size = int(row[3].replace(',', ''))\n        \n    if test_size >= 300000 and test_size <= 400000:\n        city_name = re.sub('\\[.*\\]', '', row[1])\n        city_state = row[2]\n        city_estd_pop2017 = test_size\n        city_latlongraw = re.sub('^.*/', '', re.sub('\\(.*\\)', '', row[10])).replace(' ', '')\n        # strip non-ASCII residue\n        city_latlongraw = city_latlongraw.encode('ascii',errors='ignore').decode()\n        city_lat = float(re.sub(';.*$', '', city_latlongraw))\n        city_long = float(re.sub('^.*;', '', city_latlongraw))\n        l.append([city_name, city_state, city_estd_pop2017, city_lat, city_long])\n\ncities_df = pd.DataFrame(l)\ncities_df.columns = ['City name', 'City state', 'Population', 'Latitude', 'Longitude']\nprint(cities_df)"
        }, 
        {
            "execution_count": 17, 
            "cell_type": "code", 
            "metadata": {}, 
            "outputs": [
                {
                    "ename": "NameError", 
                    "evalue": "name 'cities_df' is not defined", 
                    "traceback": [
                        "\u001b[0;31m---------------------------------------------------------------------------\u001b[0m", 
                        "\u001b[0;31mNameError\u001b[0m                                 Traceback (most recent call last)", 
                        "\u001b[0;32m<ipython-input-17-5be7eb657603>\u001b[0m in \u001b[0;36m<module>\u001b[0;34m()\u001b[0m\n\u001b[1;32m      1\u001b[0m \u001b[0;31m# persist the DataFrame\u001b[0m\u001b[0;34m\u001b[0m\u001b[0;34m\u001b[0m\u001b[0m\n\u001b[0;32m----> 2\u001b[0;31m \u001b[0mcities_df\u001b[0m\u001b[0;34m.\u001b[0m\u001b[0mto_csv\u001b[0m\u001b[0;34m(\u001b[0m\u001b[0;34m'cities_df.csv'\u001b[0m\u001b[0;34m)\u001b[0m\u001b[0;34m\u001b[0m\u001b[0m\n\u001b[0m", 
                        "\u001b[0;31mNameError\u001b[0m: name 'cities_df' is not defined"
                    ], 
                    "output_type": "error"
                }
            ], 
            "source": "# persist the DataFrame\ncities_df.to_csv('cities_df.csv')"
        }, 
        {
            "source": "## Get venues using Foursquare\n\n(this cell contains the Foursquare API credentials)\n\n<!--\nCLIENT_ID = 'NBLOR5JJCSM43LTXYWBQYVJ5U3LMNZ2ULCHERZAZVLJTHBYA' # your Foursquare ID\nCLIENT_SECRET = 'D1G4RELNK2MGSOZSO1C4DTGPYBAWHIW0MQJTXWSBTGH2JL41' # your Foursquare Secret\n-->", 
            "cell_type": "markdown", 
            "metadata": {}
        }, 
        {
            "execution_count": 30, 
            "cell_type": "code", 
            "metadata": {}, 
            "outputs": [
                {
                    "output_type": "stream", 
                    "name": "stdout", 
                    "text": "CLIENT_ID set: True\nCLIENT_SECRET set: True\n"
                }
            ], 
            "source": "print('CLIENT_ID set: {}'.format(CLIENT_ID is not None))\nprint('CLIENT_SECRET set: {}'.format(CLIENT_SECRET is not None))\n\nVERSION = '20180605' # Foursquare API version"
        }, 
        {
            "execution_count": 31, 
            "cell_type": "code", 
            "metadata": {}, 
            "outputs": [], 
            "source": "# (optional: restore all of the above data from storaget, import all libraries from above)\nimport pandas as pd\nimport numpy as np\nimport requests\nimport re\n\ncities_df = pd.read_csv('cities_df.csv')"
        }, 
        {
            "source": "Define a Foursquare query that gets all venues within a default radius of 500 meters around a latitude and longitude. The number of venues returned is capped at 100 by default.", 
            "cell_type": "markdown", 
            "metadata": {}
        }, 
        {
            "execution_count": 64, 
            "cell_type": "code", 
            "metadata": {}, 
            "outputs": [], 
            "source": "def getVenuesNearLatLong(latitude, longitude, radius=500, limit=100):\n    \n    venues_list=[]\n                \n    # create the API request URL\n    url = 'https://api.foursquare.com/v2/venues/explore?&client_id={}&client_secret={}&v={}&ll={},{}&radius={}&limit={}'.format(\n            CLIENT_ID, \n            CLIENT_SECRET, \n            VERSION,\n            latitude, \n            longitude, \n            radius, \n            limit)\n            \n    # make the GET request\n    results_raw = requests.get(url)\n    results = results_raw.json()[\"response\"]['groups'][0]['items']\n        \n    # return only relevant information for each nearby venue\n    venues_list.append([(\n            latitude, \n            longitude, \n            v['venue']['name'], \n            v['venue']['categories'][0]['name']) for v in results])\n\n    nearby_venues = pd.DataFrame([item for venue_list in venues_list for item in venue_list])\n    nearby_venues.columns = [\n                  'Latitude', \n                  'Longitude', \n                  'Venue', \n                  'Venue Category']\n    \n    print('found {} venues within {} meters of {}/{}'.format(len(results), radius, latitude, longitude))\n    \n    return(nearby_venues)"
        }, 
        {
            "source": "### Test number of venues finder\n\nUsing the first record in the cities_df DataFrame, test the function defined above.", 
            "cell_type": "markdown", 
            "metadata": {}
        }, 
        {
            "execution_count": 65, 
            "cell_type": "code", 
            "metadata": {}, 
            "outputs": [
                {
                    "output_type": "stream", 
                    "name": "stdout", 
                    "text": "   Unnamed: 0  City name City state  Population  Latitude  Longitude\n0           0  Arlington      Texas      396394   32.7007   -97.1247\n"
                }
            ], 
            "source": "print(cities_df.head(1))"
        }, 
        {
            "execution_count": 66, 
            "cell_type": "code", 
            "metadata": {}, 
            "outputs": [
                {
                    "output_type": "stream", 
                    "name": "stdout", 
                    "text": "found 7 venues within 500 meters of 32.7007/-97.1247\n"
                }
            ], 
            "source": "venues_df = getVenuesNearLatLong(cities_df.Latitude[0], cities_df.Longitude[0])"
        }, 
        {
            "execution_count": 68, 
            "cell_type": "code", 
            "metadata": {}, 
            "outputs": [
                {
                    "output_type": "stream", 
                    "name": "stdout", 
                    "text": "venues_df.shape = (7, 4)\n"
                }, 
                {
                    "execution_count": 68, 
                    "metadata": {}, 
                    "data": {
                        "text/html": "<div>\n<style scoped>\n    .dataframe tbody tr th:only-of-type {\n        vertical-align: middle;\n    }\n\n    .dataframe tbody tr th {\n        vertical-align: top;\n    }\n\n    .dataframe thead th {\n        text-align: right;\n    }\n</style>\n<table border=\"1\" class=\"dataframe\">\n  <thead>\n    <tr style=\"text-align: right;\">\n      <th></th>\n      <th>Latitude</th>\n      <th>Longitude</th>\n      <th>Venue</th>\n      <th>Venue Category</th>\n    </tr>\n  </thead>\n  <tbody>\n    <tr>\n      <th>0</th>\n      <td>32.7007</td>\n      <td>-97.1247</td>\n      <td>Krispy Kreme Doughnuts</td>\n      <td>Donut Shop</td>\n    </tr>\n    <tr>\n      <th>1</th>\n      <td>32.7007</td>\n      <td>-97.1247</td>\n      <td>Kenner's Kolache Bakery</td>\n      <td>Breakfast Spot</td>\n    </tr>\n    <tr>\n      <th>2</th>\n      <td>32.7007</td>\n      <td>-97.1247</td>\n      <td>Texas Vision Care</td>\n      <td>Optical Shop</td>\n    </tr>\n    <tr>\n      <th>3</th>\n      <td>32.7007</td>\n      <td>-97.1247</td>\n      <td>Cooper St Bakery</td>\n      <td>Bakery</td>\n    </tr>\n    <tr>\n      <th>4</th>\n      <td>32.7007</td>\n      <td>-97.1247</td>\n      <td>El Pollo Regio</td>\n      <td>Mexican Restaurant</td>\n    </tr>\n    <tr>\n      <th>5</th>\n      <td>32.7007</td>\n      <td>-97.1247</td>\n      <td>Avis Car Rental</td>\n      <td>Rental Car Location</td>\n    </tr>\n    <tr>\n      <th>6</th>\n      <td>32.7007</td>\n      <td>-97.1247</td>\n      <td>Metro Flex</td>\n      <td>Gym</td>\n    </tr>\n  </tbody>\n</table>\n</div>", 
                        "text/plain": "   Latitude  Longitude                    Venue       Venue Category\n0   32.7007   -97.1247   Krispy Kreme Doughnuts           Donut Shop\n1   32.7007   -97.1247  Kenner's Kolache Bakery       Breakfast Spot\n2   32.7007   -97.1247        Texas Vision Care         Optical Shop\n3   32.7007   -97.1247         Cooper St Bakery               Bakery\n4   32.7007   -97.1247           El Pollo Regio   Mexican Restaurant\n5   32.7007   -97.1247          Avis Car Rental  Rental Car Location\n6   32.7007   -97.1247               Metro Flex                  Gym"
                    }, 
                    "output_type": "execute_result"
                }
            ], 
            "source": "print('venues_df.shape = {}'.format(venues_df.shape))\nvenues_df"
        }, 
        {
            "source": "### Search hex grid around a given coordinate\n\nDefine a function that takes a latitude and longitude and return the venues at 6 coordinate points around that location, in a hex grid. Each point in the hex grid will be labeled by an integer as shown in the following diagram around the origin (0,0):\n\n```\n        ( -1, 1 )      ( 0, 1 )\n                \\      /\n                 \\    /\n( -1, 0 )  ---  ( 0, 0 )  ---  ( 1, 0 )\n                  /  \\\n                 /    \\\n        ( 0, -1 )     ( 1, -1 )\n```\n\nGiven a latitude and longitude, the entire hex grid can therefore be described by a set of tuples `( x, y )`. The function will collect the venues result and append it to a dictionary that is keyed by these `( x, y )` tuples.", 
            "cell_type": "markdown", 
            "metadata": {}
        }, 
        {
            "execution_count": 69, 
            "cell_type": "code", 
            "metadata": {}, 
            "outputs": [], 
            "source": "# TODO continue here"
        }, 
        {
            "execution_count": null, 
            "cell_type": "code", 
            "metadata": {}, 
            "outputs": [], 
            "source": ""
        }, 
        {
            "execution_count": null, 
            "cell_type": "code", 
            "metadata": {}, 
            "outputs": [], 
            "source": ""
        }
    ], 
    "metadata": {
        "kernelspec": {
            "display_name": "Python 3.5", 
            "name": "python3", 
            "language": "python"
        }, 
        "language_info": {
            "mimetype": "text/x-python", 
            "nbconvert_exporter": "python", 
            "version": "3.5.5", 
            "name": "python", 
            "file_extension": ".py", 
            "pygments_lexer": "ipython3", 
            "codemirror_mode": {
                "version": 3, 
                "name": "ipython"
            }
        }
    }, 
    "nbformat": 4
}