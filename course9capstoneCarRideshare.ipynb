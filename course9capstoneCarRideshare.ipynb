{
    "nbformat_minor": 1, 
    "cells": [
        {
            "source": "# Car ride-share potential in mid-size U.S. cities from geographic spread\n\nThis notebook supports the IBM Data Science Specialization on Coursera, per official report PDF. For all details, see the PDF", 
            "cell_type": "markdown", 
            "metadata": {
                "collapsed": true
            }
        }, 
        {
            "source": "## Extract geographic location of mid-size U.S. cities\n\nThe 2017 U.S. census estimate for city size can be obtained from https://factfinder.census.gov/faces/tableservices/jsf/pages/productview.xhtml?src=bkmk . It is faithfully represented in a corresponding Wikipedia page https://en.wikipedia.org/w/index.php?title=List_of_United_States_cities_by_population&oldid=883568308 (retrieved 3 March 2019) from which it can be easily parsed.", 
            "cell_type": "markdown", 
            "metadata": {}
        }, 
        {
            "source": "import pandas as pd\nimport numpy as np", 
            "cell_type": "code", 
            "metadata": {}, 
            "outputs": [], 
            "execution_count": 4
        }, 
        {
            "source": "Following https://medium.com/analytics-vidhya/web-scraping-wiki-tables-using-beautifulsoup-and-python-6b9ea26d8722 (retrieved 24 Feb 2019) using BeautifulSoup to get a parseable representation of the Wikipedia page, then load the table with all cities into `city_table`:", 
            "cell_type": "markdown", 
            "metadata": {}
        }, 
        {
            "source": "import requests\nurl = 'https://en.wikipedia.org/w/index.php?title=List_of_United_States_cities_by_population&oldid=883568308'\nwebsite_url = requests.get(url).text\n\nfrom bs4 import BeautifulSoup\nsoup = BeautifulSoup(website_url, 'lxml')\ncity_table = soup.find('table', { 'class' : 'wikitable sortable' })\nprint(\"{}\\n\\n   [...]\\n\\n{}\".format(str(city_table)[:500].replace('\\n', '').replace('<tr>', '\\n\\n<tr>'), str(city_table)[-500:]))", 
            "cell_type": "code", 
            "metadata": {}, 
            "outputs": [
                {
                    "output_type": "stream", 
                    "name": "stdout", 
                    "text": "<table class=\"wikitable sortable\" style=\"text-align:center\"><tbody>\n\n<tr><th>2017<br/>rank</th><th>City</th><th>State<sup class=\"reference\" id=\"cite_ref-5\"><a href=\"#cite_note-5\">[5]</a></sup></th><th>2017<br/>estimate</th><th>2010<br/>Census</th><th>Change</th><th colspan=\"2\">2016 land area</th><th colspan=\"2\">2016 population density</th><th>Location</th></tr>\n\n<tr><td>1</td><td style=\"text-align:left;background-color:#cfecec\"><i><a href=\"/wiki/New_York_City\" title=\"New York \n\n   [...]\n\n\"latitude\">38\u00b021\u203214\u2033N</span> <span class=\"longitude\">121\u00b058\u203222\u2033W</span></span></span><span class=\"geo-multi-punct\">\ufeff / \ufeff</span><span class=\"geo-default\"><span class=\"vcard\"><span class=\"geo-dec\" title=\"Maps, aerial photos, and other data for this location\">38.3539\u00b0N 121.9728\u00b0W</span><span style=\"display:none\">\ufeff / <span class=\"geo\">38.3539; -121.9728</span></span><span style=\"display:none\">\ufeff (<span class=\"fn org\">Vacaville</span>)</span></span></span></a></span></small>\n</td></tr></tbody></table>\n"
                }
            ], 
            "execution_count": 5
        }, 
        {
            "source": "From `city_table` find all cities with an estimated 2017 population between 300,000 and 400,000 and parse out the latitude and longitude into numeric values:\n* City name is the second column (remove references in square brackets if present),\n* city state is the third column,\n* population is the 4th column (remove thousands-separator commas before interpreting as integer),\n* lattitude and longitude is contained in the 11th column, but has to be substring-filtered.", 
            "cell_type": "markdown", 
            "metadata": {}
        }, 
        {
            "source": "import re\n\nl = []\n\ntable_rows = city_table.find_all('tr')\nfor tr in table_rows:\n    td = tr.find_all('td')\n    row = [tr.text.strip() for tr in td]\n    if len(row) < 1:\n        print(\"(ignoring empty row)\")\n        test_size = 0\n    else:\n        test_size = int(row[3].replace(',', ''))\n        \n    if test_size >= 300000 and test_size <= 400000:\n        city_name = re.sub('\\[.*\\]', '', row[1])\n        city_state = row[2]\n        city_estd_pop2017 = test_size\n        city_latlongraw = re.sub('^.*/', '', re.sub('\\(.*\\)', '', row[10])).replace(' ', '')\n        # strip non-ASCII residue\n        city_latlongraw = city_latlongraw.encode('ascii',errors='ignore').decode()\n        city_lat = float(re.sub(';.*$', '', city_latlongraw))\n        city_long = float(re.sub('^.*;', '', city_latlongraw))\n        l.append([city_name, city_state, city_estd_pop2017, city_lat, city_long])\n\ncities_df = pd.DataFrame(l)\ncities_df.columns = ['City name', 'City state', 'Population', 'Latitude', 'Longitude']\nprint(cities_df)", 
            "cell_type": "code", 
            "metadata": {}, 
            "outputs": [
                {
                    "output_type": "stream", 
                    "name": "stdout", 
                    "text": "(ignoring empty row)\n         City name    City state  Population  Latitude  Longitude\n0        Arlington         Texas      396394   32.7007   -97.1247\n1      New Orleans     Louisiana      393292   30.0534   -89.9345\n2          Wichita        Kansas      390591   37.6907   -97.3459\n3        Cleveland          Ohio      385525   41.4785   -81.6794\n4            Tampa       Florida      385430   27.9701   -82.4797\n5      Bakersfield    California      380874   35.3212  -119.0183\n6           Aurora      Colorado      366623   39.6880  -104.6897\n7          Anaheim    California      352497   33.8555  -117.7601\n8         Honolulu        Hawaii      350395   21.3243  -157.8476\n9        Santa Ana    California      334136   33.7363  -117.8830\n10       Riverside    California      327728   33.9381  -117.3932\n11  Corpus Christi         Texas      325605   27.7543   -97.1734\n12       Lexington      Kentucky      321959   38.0407   -84.4583\n13        Stockton    California      310496   37.9763  -121.3133\n14       St. Louis      Missouri      308626   38.6357   -90.2446\n15      Saint Paul     Minnesota      306621   44.9489   -93.1041\n16       Henderson        Nevada      302539   36.0097  -115.0357\n17      Pittsburgh  Pennsylvania      302407   40.4398   -79.9766\n18      Cincinnati          Ohio      301301   39.1402   -84.5058\n"
                }
            ], 
            "execution_count": 7
        }, 
        {
            "source": "# persist the DataFrame (at least for a little while)\ncities_df.to_csv('cities_df.csv')", 
            "cell_type": "code", 
            "metadata": {}, 
            "outputs": [], 
            "execution_count": 9
        }, 
        {
            "source": "## Get venues using Foursquare\n\n(this cell contains the Foursquare API credentials)\n\n<!--\nCLIENT_ID = 'NBLOR5JJCSM43LTXYWBQYVJ5U3LMNZ2ULCHERZAZVLJTHBYA' # your Foursquare ID\nCLIENT_SECRET = 'D1G4RELNK2MGSOZSO1C4DTGPYBAWHIW0MQJTXWSBTGH2JL41' # your Foursquare Secret\n-->", 
            "cell_type": "markdown", 
            "metadata": {}
        }, 
        {
            "source": "print('CLIENT_ID set: {}'.format(CLIENT_ID is not None))\nprint('CLIENT_SECRET set: {}'.format(CLIENT_SECRET is not None))\n\nVERSION = '20180605' # Foursquare API version", 
            "cell_type": "code", 
            "metadata": {}, 
            "outputs": [
                {
                    "output_type": "stream", 
                    "name": "stdout", 
                    "text": "CLIENT_ID set: True\nCLIENT_SECRET set: True\n"
                }
            ], 
            "execution_count": 10
        }, 
        {
            "source": "# (optional: restore all of the above data from storaget, import all libraries from above)\nimport pandas as pd\nimport numpy as np\nimport requests\nimport re\n\ncities_df = pd.read_csv('cities_df.csv')", 
            "cell_type": "code", 
            "metadata": {}, 
            "outputs": [], 
            "execution_count": 11
        }, 
        {
            "source": "Define a Foursquare query that gets all venues within a default radius of 500 meters around a latitude and longitude. The number of venues returned is capped at 100 by default.", 
            "cell_type": "markdown", 
            "metadata": {}
        }, 
        {
            "source": "def getVenuesNearLatLong(latitude, longitude, radius=500, limit=100):\n    \n    venues_list=[]\n                \n    # create the API request URL\n    url = 'https://api.foursquare.com/v2/venues/explore?&client_id={}&client_secret={}&v={}&ll={},{}&radius={}&limit={}'.format(\n            CLIENT_ID, \n            CLIENT_SECRET, \n            VERSION,\n            latitude, \n            longitude, \n            radius, \n            limit)\n            \n    # make the GET request\n    results_raw = requests.get(url)\n    results = results_raw.json()[\"response\"]['groups'][0]['items']\n        \n    # return only relevant information for each nearby venue\n    venues_list.append([(\n            latitude, \n            longitude, \n            v['venue']['name'], \n            v['venue']['categories'][0]['name']) for v in results])\n\n    nearby_venues = pd.DataFrame([item for venue_list in venues_list for item in venue_list])\n    nearby_venues.columns = [\n                  'Latitude', \n                  'Longitude', \n                  'Venue', \n                  'Venue Category']\n    \n    print('found {} venues within {} meters of {}/{}'.format(len(results), radius, latitude, longitude))\n    \n    return(nearby_venues)", 
            "cell_type": "code", 
            "metadata": {}, 
            "outputs": [], 
            "execution_count": 12
        }, 
        {
            "source": "### Test number of venues finder\n\nUsing the first record in the cities_df DataFrame, test the function defined above.", 
            "cell_type": "markdown", 
            "metadata": {}
        }, 
        {
            "source": "print(cities_df.head(1))", 
            "cell_type": "code", 
            "metadata": {}, 
            "outputs": [
                {
                    "output_type": "stream", 
                    "name": "stdout", 
                    "text": "   Unnamed: 0  City name City state  Population  Latitude  Longitude\n0           0  Arlington      Texas      396394   32.7007   -97.1247\n"
                }
            ], 
            "execution_count": 13
        }, 
        {
            "source": "venues_df = getVenuesNearLatLong(cities_df.Latitude[0], cities_df.Longitude[0])", 
            "cell_type": "code", 
            "metadata": {}, 
            "outputs": [
                {
                    "output_type": "stream", 
                    "name": "stdout", 
                    "text": "found 7 venues within 500 meters of 32.7007/-97.1247\n"
                }
            ], 
            "execution_count": 14
        }, 
        {
            "source": "print('venues_df.shape = {}'.format(venues_df.shape))\nvenues_df", 
            "cell_type": "code", 
            "metadata": {}, 
            "outputs": [
                {
                    "output_type": "stream", 
                    "name": "stdout", 
                    "text": "venues_df.shape = (7, 4)\n"
                }, 
                {
                    "output_type": "execute_result", 
                    "data": {
                        "text/html": "<div>\n<style scoped>\n    .dataframe tbody tr th:only-of-type {\n        vertical-align: middle;\n    }\n\n    .dataframe tbody tr th {\n        vertical-align: top;\n    }\n\n    .dataframe thead th {\n        text-align: right;\n    }\n</style>\n<table border=\"1\" class=\"dataframe\">\n  <thead>\n    <tr style=\"text-align: right;\">\n      <th></th>\n      <th>Latitude</th>\n      <th>Longitude</th>\n      <th>Venue</th>\n      <th>Venue Category</th>\n    </tr>\n  </thead>\n  <tbody>\n    <tr>\n      <th>0</th>\n      <td>32.7007</td>\n      <td>-97.1247</td>\n      <td>Krispy Kreme Doughnuts</td>\n      <td>Donut Shop</td>\n    </tr>\n    <tr>\n      <th>1</th>\n      <td>32.7007</td>\n      <td>-97.1247</td>\n      <td>Kenner's Kolache Bakery</td>\n      <td>Breakfast Spot</td>\n    </tr>\n    <tr>\n      <th>2</th>\n      <td>32.7007</td>\n      <td>-97.1247</td>\n      <td>Texas Vision Care</td>\n      <td>Optical Shop</td>\n    </tr>\n    <tr>\n      <th>3</th>\n      <td>32.7007</td>\n      <td>-97.1247</td>\n      <td>Cooper St Bakery</td>\n      <td>Bakery</td>\n    </tr>\n    <tr>\n      <th>4</th>\n      <td>32.7007</td>\n      <td>-97.1247</td>\n      <td>El Pollo Regio</td>\n      <td>Mexican Restaurant</td>\n    </tr>\n    <tr>\n      <th>5</th>\n      <td>32.7007</td>\n      <td>-97.1247</td>\n      <td>Avis Car Rental</td>\n      <td>Rental Car Location</td>\n    </tr>\n    <tr>\n      <th>6</th>\n      <td>32.7007</td>\n      <td>-97.1247</td>\n      <td>Metro Flex</td>\n      <td>Gym</td>\n    </tr>\n  </tbody>\n</table>\n</div>", 
                        "text/plain": "   Latitude  Longitude                    Venue       Venue Category\n0   32.7007   -97.1247   Krispy Kreme Doughnuts           Donut Shop\n1   32.7007   -97.1247  Kenner's Kolache Bakery       Breakfast Spot\n2   32.7007   -97.1247        Texas Vision Care         Optical Shop\n3   32.7007   -97.1247         Cooper St Bakery               Bakery\n4   32.7007   -97.1247           El Pollo Regio   Mexican Restaurant\n5   32.7007   -97.1247          Avis Car Rental  Rental Car Location\n6   32.7007   -97.1247               Metro Flex                  Gym"
                    }, 
                    "execution_count": 15, 
                    "metadata": {}
                }
            ], 
            "execution_count": 15
        }, 
        {
            "source": "### Search hex grid around a given coordinate\n\nDefine a function that takes a latitude and longitude and return the venues at 6 coordinate points around that location, in a hex grid. Each point in the hex grid will be labeled by an integer as shown in the following diagram around the origin (0,0):\n\n```\n        ( -1, 1 )      ( 0, 1 )\n                \\      /\n                 \\    /\n( -1, 0 )  ---  ( 0, 0 )  ---  ( 1, 0 )\n                  /  \\\n                 /    \\\n        ( 0, -1 )     ( 1, -1 )\n```\n\nGiven a latitude and longitude, the entire hex grid can therefore be described by a set of tuples `( x, y )`. The function will collect the venues result and append it to a dictionary that is keyed by these `( x, y )` tuples.", 
            "cell_type": "markdown", 
            "metadata": {}
        }, 
        {
            "source": "import math\n\ndef get_venues_in_hex_grid(latitude, longitude, venues_dict, this_coord, radius=500, limit=100):\n    '''\n    Calls Foursquare in a hex grid around a given coordinate point. If venues\n    have already been searched on one of the hex grid points, that result is\n    kept and no new search is executed.\n    \n    Parameters:\n    \n    latitude and longitude are as of the origin coordinate (0, 0),\n    venues_dict are the venues found so far (dictionary keys are a coordinate tuple),\n    this_coord is the center coordinate around which the hex grid is to be searched,\n    radius is the radius [meters] to search around a coordinate point,\n    limit is the maximum number of venues to return from a Foursquare search.\n    '''\n    \n    r_earth = 6378000. # approximate radius of the Earth in meters\n    pi = math.pi\n    sqrt_three = math.sqrt(3.)\n    overlap = 1.4 # 40% overlap\n    \n    cx = this_coord[0] # center X\n    cy = this_coord[1] # center Y\n    hex_coords = [ (cx-1,cy), (cx+1, cy), (cx,cy-1), (cx,cy+1), (cx-1,cy+1), (cx+1,cy-1) ] # the gex grid around this_coord\n    \n    for this_hex in hex_coords:\n        if not this_hex in venues_dict:\n            # the coordinate has not been searched for\n            \n            # get the x- and y-step from a hex grid; start with a square grid (letting the circles overlap a bit):\n            dx_square = this_hex[0] * radius * ( overlap / 2. )\n            dy_square = this_hex[1] * radius * ( overlap / 2. )\n            # now convert to a hex grid:\n            dx = dx_square + dy_square / 2.\n            dy = dy_square * ( sqrt_three / 2. )\n            # approximate the center point's latitude and longitude assuming locally flat Earth\n            hex_latitude  = latitude  + (dy / r_earth) * (180 / pi);\n            hex_longitude = longitude + (dx / r_earth) * (180 / pi) / math.cos(latitude * pi/180);\n            \n            this_venues = getVenuesNearLatLong(hex_latitude, hex_longitude, radius, limit)\n            venues_dict[this_hex] = this_venues\n", 
            "cell_type": "code", 
            "metadata": {}, 
            "outputs": [], 
            "execution_count": 23
        }, 
        {
            "source": "Test the hexagonal grid function on the above city, to see how it functions.", 
            "cell_type": "markdown", 
            "metadata": {}
        }, 
        {
            "source": "# initialize venues_dict with the venues dataframe at the origin\nvenues_dict = {}\norigin_coord = (0,0)\nvenues_dict[origin_coord] = venues_df\nlat_orig = cities_df.Latitude[0]\nlong_orig = cities_df.Longitude[0]\n\n# call the hex grid exploration function\nget_venues_in_hex_grid(lat_orig, long_orig, venues_dict, (0,0) )", 
            "cell_type": "code", 
            "metadata": {}, 
            "outputs": [
                {
                    "output_type": "stream", 
                    "name": "stdout", 
                    "text": "found 4 venues within 500 meters of 32.7007/-97.12843637006064\nfound 8 venues within 500 meters of 32.7007/-97.12096362993937\nfound 10 venues within 500 meters of 32.69797706801414/-97.12656818503032\nfound 11 venues within 500 meters of 32.703422931985855/-97.12283181496969\nfound 4 venues within 500 meters of 32.703422931985855/-97.12656818503032\nfound 10 venues within 500 meters of 32.69797706801414/-97.12283181496969\n"
                }
            ], 
            "execution_count": 49
        }, 
        {
            "source": "Output the result:", 
            "cell_type": "markdown", 
            "metadata": {}
        }, 
        {
            "source": "for key, entry in venues_dict.items():\n    print('Venues at {}:\\n{}\\n\\n'.format(key, entry['Venue Category'])) ", 
            "cell_type": "code", 
            "metadata": {}, 
            "outputs": [
                {
                    "output_type": "stream", 
                    "name": "stdout", 
                    "text": "Venues at (0, 1):\n0                 Donut Shop\n1       Caribbean Restaurant\n2               Burger Joint\n3         Mexican Restaurant\n4               Burger Joint\n5        Filipino Restaurant\n6     Thrift / Vintage Store\n7                Pizza Place\n8         Mexican Restaurant\n9                        Bar\n10        Mexican Restaurant\nName: Venue Category, dtype: object\n\n\nVenues at (-1, 1):\n0              Dessert Shop\n1        Mexican Restaurant\n2    Thrift / Vintage Store\n3               Pizza Place\nName: Venue Category, dtype: object\n\n\nVenues at (0, 0):\n0             Donut Shop\n1         Breakfast Spot\n2           Optical Shop\n3                 Bakery\n4     Mexican Restaurant\n5    Rental Car Location\n6                    Gym\nName: Venue Category, dtype: object\n\n\nVenues at (-1, 0):\n0           Optical Shop\n1         Breakfast Spot\n2    Rental Car Location\n3                   Caf\u00e9\nName: Venue Category, dtype: object\n\n\nVenues at (0, -1):\n0           Optical Shop\n1         Breakfast Spot\n2                 Bakery\n3    Rental Car Location\n4    Rental Car Location\n5         Sandwich Place\n6              Pawn Shop\n7                    Gym\n8     Mexican Restaurant\n9             Smoke Shop\nName: Venue Category, dtype: object\n\n\nVenues at (1, 0):\n0             Donut Shop\n1         Breakfast Spot\n2             Campground\n3     Mexican Restaurant\n4           Burger Joint\n5                 Bakery\n6    Rental Car Location\n7                    Bar\nName: Venue Category, dtype: object\n\n\nVenues at (1, -1):\n0             Donut Shop\n1         Breakfast Spot\n2           Optical Shop\n3             Campground\n4                 Bakery\n5    Rental Car Location\n6     Mexican Restaurant\n7    Rental Car Location\n8                    Gym\n9              Pawn Shop\nName: Venue Category, dtype: object\n\n\n"
                }
            ], 
            "execution_count": 50
        }, 
        {
            "source": "Get a graphical representation of where these venues are, using folium", 
            "cell_type": "markdown", 
            "metadata": {}
        }, 
        {
            "source": "# import libraries required for folium\n\nimport json\n!conda install -c conda-forge geopy --yes\nfrom geopy.geocoders import Nominatim\nfrom pandas.io.json import json_normalize\nimport matplotlib.cm as cm\nimport matplotlib.colors as colors\n!conda install -c conda-forge folium=0.5.0 --yes\nimport folium", 
            "cell_type": "code", 
            "metadata": {}, 
            "outputs": [
                {
                    "output_type": "stream", 
                    "name": "stdout", 
                    "text": "Fetching package metadata .............\nSolving package specifications: .\n\n# All requested packages already installed.\n# packages in environment at /opt/conda/envs/DSX-Python35:\n#\ngeopy                     1.18.1                     py_0    conda-forge\nFetching package metadata .............\nSolving package specifications: .\n\n# All requested packages already installed.\n# packages in environment at /opt/conda/envs/DSX-Python35:\n#\nfolium                    0.5.0                      py_0    conda-forge\n"
                }
            ], 
            "execution_count": 51
        }, 
        {
            "source": "def make_map_from_dict(lat_orig, long_orig, venues_dict, zoom_start):\n    new_map = folium.Map(location=[lat_orig, long_orig], zoom_start=14)\n\n    # add markers to map\n    for coords, venues in venues_dict.items():\n        label = '{}, # venues: {}'.format(coords, venues.shape[0])\n        label = folium.Popup(label, parse_html=True)\n        folium.CircleMarker(\n            [venues['Latitude'][0], venues['Longitude'][0]],\n            radius=venues.shape[0],\n            popup=label,\n            color='blue',\n            fill=True,\n            fill_color='#3186cc',\n            fill_opacity=0.7,\n            parse_html=False).add_to(new_map)  \n     \n    return new_map\n\nmake_map_from_dict(lat_orig, long_orig, venues_dict, 14)", 
            "cell_type": "code", 
            "metadata": {}, 
            "outputs": [
                {
                    "output_type": "execute_result", 
                    "data": {
                        "text/html": "<div style=\"width:100%;\"><div style=\"position:relative;width:100%;height:0;padding-bottom:60%;\"><iframe src=\"data:text/html;charset=utf-8;base64,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\" style=\"position:absolute;width:100%;height:100%;left:0;top:0;border:none !important;\" allowfullscreen webkitallowfullscreen mozallowfullscreen></iframe></div></div>", 
                        "text/plain": "<folium.folium.Map at 0x7f113db970f0>"
                    }, 
                    "execution_count": 53, 
                    "metadata": {}
                }
            ], 
            "execution_count": 53
        }, 
        {
            "source": "### Interpretation of the test\n\nA quick visual inspection confirms the correctness of the algorithm (the coordinates and expected number of venues matches the text printout).\n\nHowever, it is also obvious that the city is much larger, and many more venue points would have to be calculated this way. The sandbox account into Foursquare is limited to just under 1000 API queries per day, and we have 19 cities in our data set.\n\nPerforming 100 query points for each city amounts to 1900 Foursquare API queries. This can be done over the course of two or three days. 100 query points, however, is just a 10x10 grid. Therefore, increase the search size to 1500 meters, and accept that in certain circles we'll exceed the maximum number of venues returned by Foursquare.\n\nRe-testing with the new parameters:", 
            "cell_type": "markdown", 
            "metadata": {}
        }, 
        {
            "source": "# initialize venues_dict with the venues dataframe at the origin\nvenues_dict = {}\norigin_coord = (0,0)\nlat_orig = cities_df.Latitude[0]\nlong_orig = cities_df.Longitude[0]\nvenues_dict[origin_coord] = getVenuesNearLatLong(lat_orig, long_orig, radius=1500)\n\n# call the hex grid exploration function\nget_venues_in_hex_grid(lat_orig, long_orig, venues_dict, (0,0), radius=1500)", 
            "cell_type": "code", 
            "metadata": {}, 
            "outputs": [
                {
                    "output_type": "stream", 
                    "name": "stdout", 
                    "text": "found 59 venues within 1500 meters of 32.7007/-97.1247\nfound 69 venues within 1500 meters of 32.7007/-97.13590911018191\nfound 71 venues within 1500 meters of 32.7007/-97.1134908898181\nfound 96 venues within 1500 meters of 32.69253120404243/-97.13030455509096\nfound 62 venues within 1500 meters of 32.708868795957564/-97.11909544490905\nfound 48 venues within 1500 meters of 32.708868795957564/-97.13030455509096\nfound 84 venues within 1500 meters of 32.69253120404243/-97.11909544490905\n"
                }
            ], 
            "execution_count": 54
        }, 
        {
            "source": "make_map_from_dict(lat_orig, long_orig, venues_dict, 14)", 
            "cell_type": "code", 
            "metadata": {}, 
            "outputs": [
                {
                    "output_type": "execute_result", 
                    "data": {
                        "text/html": "<div style=\"width:100%;\"><div style=\"position:relative;width:100%;height:0;padding-bottom:60%;\"><iframe src=\"data:text/html;charset=utf-8;base64,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\" style=\"position:absolute;width:100%;height:100%;left:0;top:0;border:none !important;\" allowfullscreen webkitallowfullscreen mozallowfullscreen></iframe></div></div>", 
                        "text/plain": "<folium.folium.Map at 0x7f113da2fe80>"
                    }, 
                    "execution_count": 55, 
                    "metadata": {}
                }
            ], 
            "execution_count": 55
        }, 
        {
            "source": "At the risk of hitting the maximum number of venues returned from Foursquare, the radius 1500 meters will be chosen going forward. The number of cities will be capped at 19, and the number of venue points in the algorithm at 100 so that we can gather all required data within 2-3 days from Foursquare.\n\nIn a real analysis, we would of course pay for a Foursquare subscription and get many more data points.", 
            "cell_type": "markdown", 
            "metadata": {}
        }, 
        {
            "source": "", 
            "cell_type": "code", 
            "metadata": {}, 
            "outputs": [], 
            "execution_count": null
        }, 
        {
            "source": "", 
            "cell_type": "code", 
            "metadata": {}, 
            "outputs": [], 
            "execution_count": null
        }, 
        {
            "source": "", 
            "cell_type": "code", 
            "metadata": {}, 
            "outputs": [], 
            "execution_count": null
        }
    ], 
    "metadata": {
        "kernelspec": {
            "display_name": "Python 3.5", 
            "name": "python3", 
            "language": "python"
        }, 
        "language_info": {
            "mimetype": "text/x-python", 
            "nbconvert_exporter": "python", 
            "version": "3.5.5", 
            "name": "python", 
            "pygments_lexer": "ipython3", 
            "file_extension": ".py", 
            "codemirror_mode": {
                "version": 3, 
                "name": "ipython"
            }
        }
    }, 
    "nbformat": 4
}