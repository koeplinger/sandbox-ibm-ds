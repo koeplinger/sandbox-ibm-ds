{
    "nbformat_minor": 1, 
    "cells": [
        {
            "source": "# Car ride-share potential in mid-size U.S. cities from geographic spread (2)\n\nSecond notebook for the IBM Data Science Specialization on Coursera, consolidating and cleaning up the first notebook, to continue with less clutter.\n\n## Copy-forward: All imports so far", 
            "cell_type": "markdown", 
            "metadata": {
                "collapsed": true
            }
        }, 
        {
            "source": "import pandas as pd\nimport numpy as np\nimport requests\nfrom bs4 import BeautifulSoup\nimport re\nimport math\nimport json\n\n!conda install -c conda-forge geopy=1.18.1 --yes\n", 
            "cell_type": "code", 
            "metadata": {}, 
            "outputs": [
                {
                    "output_type": "stream", 
                    "name": "stdout", 
                    "text": "Fetching package metadata .............\nSolving package specifications: .\n\n# All requested packages already installed.\n# packages in environment at /opt/conda/envs/DSX-Python35:\n#\ngeopy                     1.18.1                     py_0    conda-forge\n"
                }
            ], 
            "execution_count": 3
        }, 
        {
            "source": "from geopy.geocoders import Nominatim\nfrom pandas.io.json import json_normalize\nimport matplotlib.cm as cm\nimport matplotlib.colors as colors\n!conda install -c conda-forge folium=0.8.0 --yes\nimport folium\n", 
            "cell_type": "code", 
            "metadata": {}, 
            "outputs": [
                {
                    "output_type": "stream", 
                    "name": "stdout", 
                    "text": "Fetching package metadata .............\nSolving package specifications: .\n\n# All requested packages already installed.\n# packages in environment at /opt/conda/envs/DSX-Python35:\n#\nfolium                    0.8.0                      py_0    conda-forge\n"
                }
            ], 
            "execution_count": 4
        }, 
        {
            "source": "import time\n", 
            "cell_type": "code", 
            "metadata": {}, 
            "outputs": [], 
            "execution_count": 5
        }, 
        {
            "source": "## Copy-forward: Mid-size U.S. cities", 
            "cell_type": "markdown", 
            "metadata": {}
        }, 
        {
            "source": "url = 'https://en.wikipedia.org/w/index.php?title=List_of_United_States_cities_by_population&oldid=883568308'\nwebsite_url = requests.get(url).text\nsoup = BeautifulSoup(website_url, 'lxml')\ncity_table = soup.find('table', { 'class' : 'wikitable sortable' })\nprint(\"{}\\n\\n   [...]\\n\\n{}\".format(str(city_table)[:500].replace('\\n', '').replace('<tr>', '\\n\\n<tr>'), str(city_table)[-500:]))\n", 
            "cell_type": "code", 
            "metadata": {}, 
            "outputs": [
                {
                    "output_type": "stream", 
                    "name": "stdout", 
                    "text": "<table class=\"wikitable sortable\" style=\"text-align:center\"><tbody>\n\n<tr><th>2017<br/>rank</th><th>City</th><th>State<sup class=\"reference\" id=\"cite_ref-5\"><a href=\"#cite_note-5\">[5]</a></sup></th><th>2017<br/>estimate</th><th>2010<br/>Census</th><th>Change</th><th colspan=\"2\">2016 land area</th><th colspan=\"2\">2016 population density</th><th>Location</th></tr>\n\n<tr><td>1</td><td style=\"text-align:left;background-color:#cfecec\"><i><a href=\"/wiki/New_York_City\" title=\"New York \n\n   [...]\n\n\"latitude\">38\u00b021\u203214\u2033N</span> <span class=\"longitude\">121\u00b058\u203222\u2033W</span></span></span><span class=\"geo-multi-punct\">\ufeff / \ufeff</span><span class=\"geo-default\"><span class=\"vcard\"><span class=\"geo-dec\" title=\"Maps, aerial photos, and other data for this location\">38.3539\u00b0N 121.9728\u00b0W</span><span style=\"display:none\">\ufeff / <span class=\"geo\">38.3539; -121.9728</span></span><span style=\"display:none\">\ufeff (<span class=\"fn org\">Vacaville</span>)</span></span></span></a></span></small>\n</td></tr></tbody></table>\n"
                }
            ], 
            "execution_count": 6
        }, 
        {
            "source": "l = []\n\ntable_rows = city_table.find_all('tr')\nfor tr in table_rows:\n    td = tr.find_all('td')\n    row = [tr.text.strip() for tr in td]\n    if len(row) < 1:\n        print(\"(ignoring empty row)\")\n        test_size = 0\n    else:\n        test_size = int(row[3].replace(',', ''))\n        \n    if test_size >= 300000 and test_size <= 400000:\n        city_name = re.sub('\\[.*\\]', '', row[1])\n        city_state = row[2]\n        city_estd_pop2017 = test_size\n        city_latlongraw = re.sub('^.*/', '', re.sub('\\(.*\\)', '', row[10])).replace(' ', '')\n        # strip non-ASCII residue\n        city_latlongraw = city_latlongraw.encode('ascii',errors='ignore').decode()\n        city_lat = float(re.sub(';.*$', '', city_latlongraw))\n        city_long = float(re.sub('^.*;', '', city_latlongraw))\n        l.append([city_name, city_state, city_estd_pop2017, city_lat, city_long])\n\ncities_df = pd.DataFrame(l)\ncities_df.columns = ['City name', 'City state', 'Population', 'Latitude', 'Longitude']\nprint(cities_df)\n", 
            "cell_type": "code", 
            "metadata": {}, 
            "outputs": [
                {
                    "output_type": "stream", 
                    "name": "stdout", 
                    "text": "(ignoring empty row)\n         City name    City state  Population  Latitude  Longitude\n0        Arlington         Texas      396394   32.7007   -97.1247\n1      New Orleans     Louisiana      393292   30.0534   -89.9345\n2          Wichita        Kansas      390591   37.6907   -97.3459\n3        Cleveland          Ohio      385525   41.4785   -81.6794\n4            Tampa       Florida      385430   27.9701   -82.4797\n5      Bakersfield    California      380874   35.3212  -119.0183\n6           Aurora      Colorado      366623   39.6880  -104.6897\n7          Anaheim    California      352497   33.8555  -117.7601\n8         Honolulu        Hawaii      350395   21.3243  -157.8476\n9        Santa Ana    California      334136   33.7363  -117.8830\n10       Riverside    California      327728   33.9381  -117.3932\n11  Corpus Christi         Texas      325605   27.7543   -97.1734\n12       Lexington      Kentucky      321959   38.0407   -84.4583\n13        Stockton    California      310496   37.9763  -121.3133\n14       St. Louis      Missouri      308626   38.6357   -90.2446\n15      Saint Paul     Minnesota      306621   44.9489   -93.1041\n16       Henderson        Nevada      302539   36.0097  -115.0357\n17      Pittsburgh  Pennsylvania      302407   40.4398   -79.9766\n18      Cincinnati          Ohio      301301   39.1402   -84.5058\n"
                }
            ], 
            "execution_count": 7
        }, 
        {
            "source": "## Copy-forward: Foursquare functions", 
            "cell_type": "markdown", 
            "metadata": {}
        }, 
        {
            "source": "# (paste secret from local file)\n", 
            "cell_type": "code", 
            "metadata": {}, 
            "outputs": [], 
            "execution_count": 65
        }, 
        {
            "source": "print('CLIENT_ID set: {}'.format(CLIENT_ID is not None))\nprint('CLIENT_SECRET set: {}'.format(CLIENT_SECRET is not None))\n\nVERSION = '20180605' # Foursquare API version\n", 
            "cell_type": "code", 
            "metadata": {}, 
            "outputs": [
                {
                    "output_type": "stream", 
                    "name": "stdout", 
                    "text": "CLIENT_ID set: True\nCLIENT_SECRET set: True\n"
                }
            ], 
            "execution_count": 66
        }, 
        {
            "source": "### >>> getVenuesNearLatLong", 
            "cell_type": "markdown", 
            "metadata": {}
        }, 
        {
            "source": "def getVenuesNearLatLong(latitude, longitude, radius=500, limit=100, verbose=True):\n    \n    venues_list=[]\n                \n    # create the API request URL\n    url = 'https://api.foursquare.com/v2/venues/explore?&client_id={}&client_secret={}&v={}&ll={},{}&radius={}&limit={}'.format(\n            CLIENT_ID, \n            CLIENT_SECRET, \n            VERSION,\n            latitude, \n            longitude, \n            radius, \n            limit)\n            \n    # make the GET request (on error try four more times before giving up)\n    num_tries = 0\n    results = [] # assume no venues if persistent error\n    \n    while num_tries < 5:\n        num_tries +=1\n        try:\n            results_raw = requests.get(url)\n            results = results_raw.json()[\"response\"]['groups'][0]['items']\n        except:\n            print('(err)', end='')\n            time.sleep(2) # sleep for two seconds, then retry\n        \n    # return only relevant information for each nearby venue\n    venues_list.append([(\n            latitude, \n            longitude, \n            v['venue']['name'], \n            v['venue']['categories'][0]['name']) for v in results])\n\n    nearby_venues = pd.DataFrame([item for venue_list in venues_list for item in venue_list])\n    if (len(results) > 0):\n        nearby_venues.columns = [\n                  'Latitude', \n                  'Longitude', \n                  'Venue', \n                  'Venue Category']\n    \n    if verbose:\n        print('found {} venues within {} meters of {}/{}'.format(len(results), radius, latitude, longitude))\n    else:\n        print('{}'.format(len(results)), end='. ')\n    \n    return(nearby_venues)\n", 
            "cell_type": "code", 
            "metadata": {}, 
            "outputs": [], 
            "execution_count": 11
        }, 
        {
            "source": "### >>> get_venues_in_hex_grid", 
            "cell_type": "markdown", 
            "metadata": {}
        }, 
        {
            "source": "def get_venues_in_hex_grid(latitude, longitude, venues_dict, this_coord, radius=500, limit=100, new_coords=[], verbose=True):\n    '''\n    Calls Foursquare in a hex grid around a given coordinate point. If venues\n    have already been searched on one of the hex grid points, that result is\n    kept and no new search is executed.\n    \n    Parameters:\n    \n    latitude and longitude are as of the origin coordinate (0, 0),\n    venues_dict are the venues found so far (dictionary keys are a coordinate tuple),\n    this_coord is the center coordinate around which the hex grid is to be searched,\n    radius is the radius [meters] to search around a coordinate point,\n    limit is the maximum number of venues to return from a Foursquare search.\n    new_coords is a list of coordinate points that wasn't probed yet\n    \n    Returns a list of new coordinate tuples appended to the new_coords parameter, if any\n    '''\n    \n    r_earth = 6378000. # approximate radius of the Earth in meters\n    pi = math.pi\n    sqrt_three = math.sqrt(3.)\n    overlap = 1.4 # 40% overlap\n    \n    cx = this_coord[0] # center X\n    cy = this_coord[1] # center Y\n    hex_coords = [ (cx-1,cy), (cx+1, cy), (cx,cy-1), (cx,cy+1), (cx-1,cy+1), (cx+1,cy-1) ] # the gex grid around this_coord\n    \n    if (cx, cy) in new_coords:\n        new_coords.remove((cx, cy))\n    \n    for this_hex in hex_coords:\n        if not this_hex in venues_dict:\n            # the coordinate has not been searched for\n            \n            # get the x- and y-step from a hex grid; start with a square grid (letting the circles overlap a bit):\n            dx_square = this_hex[0] * radius * ( overlap / 2. )\n            dy_square = this_hex[1] * radius * ( overlap / 2. )\n            # now convert to a hex grid:\n            dx = dx_square + dy_square / 2.\n            dy = dy_square * ( sqrt_three / 2. )\n            # approximate the center point's latitude and longitude assuming locally flat Earth\n            hex_latitude  = latitude  + (dy / r_earth) * (180 / pi);\n            hex_longitude = longitude + (dx / r_earth) * (180 / pi) / math.cos(latitude * pi/180);\n            \n            if verbose:\n                print('getting coordinate {}...'.format(this_hex))\n            else:\n                print('({},{}):'.format(this_hex[0], this_hex[1]), end='')\n                \n            this_venues = getVenuesNearLatLong(hex_latitude, hex_longitude, radius=radius, limit=limit, verbose=verbose)\n            venues_dict[this_hex] = this_venues\n            if not this_hex in new_coords:\n                new_coords.append(this_hex)\n    \n    return new_coords\n", 
            "cell_type": "code", 
            "metadata": {}, 
            "outputs": [], 
            "execution_count": 12
        }, 
        {
            "source": "### >>> make_map_from_dict", 
            "cell_type": "markdown", 
            "metadata": {}
        }, 
        {
            "source": "def make_map_from_dict(lat_orig, long_orig, venues_dict, zoom_start,\n                       city_name='(city_name)', city_state='(city_state)',\n                       radius_zoom=1.0, width=600, height=600,\n                       no_touch=True,\n                       zoom_control=False):\n    \n    if zoom_control == False:\n        min_zoom = zoom_start\n        max_zoom = zoom_start\n    else:\n        min_zoom = 0\n        max_zoom = 16\n    \n    new_map = folium.Map(\n        location=[lat_orig, long_orig],\n        zoom_start=zoom_start,\n        width=width,\n        height=height,\n        control_scale=True,\n        no_touch=no_touch,\n        min_zoom=min_zoom,\n        max_zoom=max_zoom\n    )\n\n    # add markers to map\n    for coords, venues in venues_dict.items():\n        if venues.shape[0] > 0: \n            label = '{}, # venues: {}'.format(coords, venues.shape[0])\n            label = folium.Popup(label, parse_html=True)\n            folium.CircleMarker(\n                [venues['Latitude'][0], venues['Longitude'][0]],\n                radius=venues.shape[0] * radius_zoom,\n                popup=label,\n                color='blue',\n                fill=True,\n                fill_color='#3186cc',\n                fill_opacity=0.7,\n                parse_html=False).add_to(new_map)\n        \n    legend_html = ('<div style=\"position: fixed; top: 30px; left: 50px; width: 450px;' \n                + 'height: 30px; border: 2px solid grey; z-index: 9999; font-size: 16px; background-color: white\">' \n                + '&nbsp;{},&nbsp;{}' \n                + '</div>').format(\n                     city_name,\n                     city_state\n                     )\n    new_map.get_root().html.add_child(folium.Element(legend_html))\n     \n    return new_map", 
            "cell_type": "code", 
            "metadata": {}, 
            "outputs": [], 
            "execution_count": 14
        }, 
        {
            "source": "### >>> find_venues_geo_distribution", 
            "cell_type": "markdown", 
            "metadata": {}
        }, 
        {
            "source": "def find_venues_geo_distribution(cities_df, city_index, max_coords_tested=100, radius=1500, limit=100, verbose=True):\n    \n    city_name = cities_df['City name'][city_index]\n    city_state = cities_df['City state'][city_index]\n    \n    # initialize venues_dict with the venues dataframe at the origin\n    venues_dict = {}\n    origin_coord = (0,0)\n    lat_orig = cities_df.Latitude[city_index]\n    long_orig = cities_df.Longitude[city_index]\n    print('[test #1 of {}] (0,0):'.format(max_coords_tested), end='')\n    venues_df = getVenuesNearLatLong(lat_orig, long_orig, radius=radius, verbose=verbose)\n    venues_dict[origin_coord] = venues_df\n    \n    # mark the origin as the first (and only) coordinate point not yet explored\n    new_coords = [(0, 0)]\n    num_coords_tested = 1\n    \n    while num_coords_tested < max_coords_tested:\n        \n        highest_venues = -1\n        new_test_coord = None\n        \n        for this_coord in new_coords:\n            venues_df = venues_dict[this_coord]\n            if venues_df.shape[0] > highest_venues:\n                new_test_coord = this_coord\n                highest_venues = venues_df.shape[0]\n        \n        # call the hex grid exploration function\n        num_coords_tested += 1\n        print('[test #{} of {}]'.format(num_coords_tested, max_coords_tested), end=' ')\n        new_coords = get_venues_in_hex_grid(lat_orig, long_orig, venues_dict, new_test_coord, radius=radius, new_coords=new_coords, limit=limit, verbose=verbose )\n        \n    return lat_orig, long_orig, venues_dict, city_name, city_state\n", 
            "cell_type": "code", 
            "metadata": {}, 
            "outputs": [], 
            "execution_count": 15
        }, 
        {
            "source": "## Determine aggregates describing the geographical distribution\n\nIn order to cluster cities by shape of their venues, we need to calculate aggregate variables:\n\n* Determine the center of the venues by averaging each coordinate point, weighed by the number of venues there.\n* Determine the mean distance of all venues from that center.\n* Determine the standard deviation of the distance distribution, as well as skewedness and kurtosis (\"peaky-ness\"). Once we have these values, all details on the geographic venues distribution will be discarded.\n\nBut first we have to simplify the dataframe, to sum up the number of indicator venues as compared to the total number of venues.\n\n### Check whether a venue is of an indicator type\n\nDefine a vendor indicator function now so that the remainder of the algorithm can be developed and tested. For the sake of this capstone assignment, I'll simply assume to make a study for a client, and the client gave me that list. It is aimed at indicating a population that is willing to try out new and unusual things, in the context of sharing transportation.", 
            "cell_type": "markdown", 
            "metadata": {}
        }, 
        {
            "source": "### >>> is_indicator_venue", 
            "cell_type": "markdown", 
            "metadata": {}
        }, 
        {
            "source": "def is_indicator_venue(venue_type):\n    if venue_type is None:\n        return False\n    \n    magic_words = [\n        'yoga',\n        'salad',\n        'coworking',\n        'alternative',\n        'bike',\n        'fitness',\n        'running',\n        'jogging',\n        'cycling',\n        'cycle',\n        'athletics',\n        'gluten',\n        'health',\n        'recreation',\n        'tennis',\n        'vegetarian',\n        'vegan',\n        'tennis',\n        'disc golf',\n        'pilates',\n        'share',\n        'sharing',\n        'incubat',\n        'innovat'\n    ]\n    return any(substring in venue_type.lower() for substring in magic_words)\n\nprint('Perform some tests on indicator venues:')\nprint(is_indicator_venue(None))\nprint(is_indicator_venue(''))\nprint(is_indicator_venue('Salad Bar'))\nprint(is_indicator_venue('Chinese Restaurant'))\nprint(is_indicator_venue('Coworking space'))\n", 
            "cell_type": "code", 
            "metadata": {}, 
            "outputs": [
                {
                    "output_type": "stream", 
                    "name": "stdout", 
                    "text": "Perform some tests on indicator venues:\nFalse\nFalse\nTrue\nFalse\nTrue\n"
                }
            ], 
            "execution_count": 38
        }, 
        {
            "source": "### Aggregate venues_dict into a DataFrame with one row per coordinate\n\nFor all coordinates, count the number of venues at that coordinate as well as the number of indicator venues\n\n### >>> aggregate_venues_dict", 
            "cell_type": "markdown", 
            "metadata": {}
        }, 
        {
            "source": "def aggregate_venues_dict(venues_dict):\n    venues_agg = []\n    venues_types = []\n    for coord, venues in venues_dict.items():\n        num_venues = venues.shape[0]\n        num_indicators = 0\n        if num_venues > 0:\n            for this_type in venues['Venue Category'].values:\n                venues_types.append(this_type)\n                if is_indicator_venue(this_type):\n                    num_indicators += 1\n        venues_agg.append([coord, num_venues, num_indicators])\n    venues_agg_df = pd.DataFrame(venues_agg)\n    venues_agg_df.columns = ['coord', 'num_venues', 'num_indicators']\n    return venues_agg_df, set(venues_types)\n", 
            "cell_type": "code", 
            "metadata": {}, 
            "outputs": [], 
            "execution_count": 89
        }, 
        {
            "source": "Do a quick test: Get 10 coordinates (plus a few surrounding ones) from the third city in the list (index 2):", 
            "cell_type": "markdown", 
            "metadata": {}
        }, 
        {
            "source": "lat_orig, long_orig, venues_dict, city_name, city_state = find_venues_geo_distribution(\n    cities_df, city_index=2, radius=800, max_coords_tested=10, verbose=False)\n", 
            "cell_type": "code", 
            "metadata": {}, 
            "outputs": [
                {
                    "output_type": "stream", 
                    "name": "stdout", 
                    "text": "[test #1 of 10] (0,0):43. [test #2 of 10] (-1,0):33. (1,0):46. (0,-1):58. (0,1):18. (-1,1):16. (1,-1):58. [test #3 of 10] (-1,-1):44. (0,-2):43. (1,-2):53. [test #4 of 10] (2,-1):78. (2,-2):55. [test #5 of 10] (3,-1):87. (2,0):83. (3,-2):73. [test #6 of 10] (4,-1):74. (3,0):79. (4,-2):52. [test #7 of 10] (2,1):36. (1,1):28. [test #8 of 10] (4,0):55. (3,1):29. [test #9 of 10] (5,-1):24. (5,-2):24. [test #10 of 10] (3,-3):29. (4,-3):16. "
                }
            ], 
            "execution_count": 90
        }, 
        {
            "source": "print(\"{}, {}\".format(city_name, city_state))\nvenues_agg_df, venues_types = aggregate_venues_dict(venues_dict)\nvenues_agg_df.head(10)\n", 
            "cell_type": "code", 
            "metadata": {}, 
            "outputs": [
                {
                    "output_type": "stream", 
                    "name": "stdout", 
                    "text": "Wichita, Kansas\n"
                }, 
                {
                    "output_type": "execute_result", 
                    "data": {
                        "text/html": "<div>\n<style scoped>\n    .dataframe tbody tr th:only-of-type {\n        vertical-align: middle;\n    }\n\n    .dataframe tbody tr th {\n        vertical-align: top;\n    }\n\n    .dataframe thead th {\n        text-align: right;\n    }\n</style>\n<table border=\"1\" class=\"dataframe\">\n  <thead>\n    <tr style=\"text-align: right;\">\n      <th></th>\n      <th>coord</th>\n      <th>num_venues</th>\n      <th>num_indicators</th>\n    </tr>\n  </thead>\n  <tbody>\n    <tr>\n      <th>0</th>\n      <td>(5, -1)</td>\n      <td>24</td>\n      <td>1</td>\n    </tr>\n    <tr>\n      <th>1</th>\n      <td>(5, -2)</td>\n      <td>24</td>\n      <td>1</td>\n    </tr>\n    <tr>\n      <th>2</th>\n      <td>(0, 0)</td>\n      <td>43</td>\n      <td>4</td>\n    </tr>\n    <tr>\n      <th>3</th>\n      <td>(-1, 0)</td>\n      <td>33</td>\n      <td>1</td>\n    </tr>\n    <tr>\n      <th>4</th>\n      <td>(3, -3)</td>\n      <td>29</td>\n      <td>0</td>\n    </tr>\n    <tr>\n      <th>5</th>\n      <td>(3, 0)</td>\n      <td>79</td>\n      <td>2</td>\n    </tr>\n    <tr>\n      <th>6</th>\n      <td>(2, -1)</td>\n      <td>78</td>\n      <td>1</td>\n    </tr>\n    <tr>\n      <th>7</th>\n      <td>(2, 1)</td>\n      <td>36</td>\n      <td>1</td>\n    </tr>\n    <tr>\n      <th>8</th>\n      <td>(3, -2)</td>\n      <td>73</td>\n      <td>0</td>\n    </tr>\n    <tr>\n      <th>9</th>\n      <td>(2, -2)</td>\n      <td>55</td>\n      <td>0</td>\n    </tr>\n  </tbody>\n</table>\n</div>", 
                        "text/plain": "     coord  num_venues  num_indicators\n0  (5, -1)          24               1\n1  (5, -2)          24               1\n2   (0, 0)          43               4\n3  (-1, 0)          33               1\n4  (3, -3)          29               0\n5   (3, 0)          79               2\n6  (2, -1)          78               1\n7   (2, 1)          36               1\n8  (3, -2)          73               0\n9  (2, -2)          55               0"
                    }, 
                    "execution_count": 91, 
                    "metadata": {}
                }
            ], 
            "execution_count": 91
        }, 
        {
            "source": "The `aggregate_venues_dict` function also returns a set of all venues, let's loop through all of them and test the indicator function.", 
            "cell_type": "markdown", 
            "metadata": {}
        }, 
        {
            "source": "for this_type in venues_types:\n    print('{}:  {}'.format(is_indicator_venue(this_type), this_type))\n    ", 
            "cell_type": "code", 
            "metadata": {
                "scrolled": false
            }, 
            "outputs": [
                {
                    "output_type": "stream", 
                    "name": "stdout", 
                    "text": "False:  Social Club\nFalse:  Bar\nFalse:  Discount Store\nFalse:  Design Studio\nFalse:  Hot Dog Joint\nFalse:  Grocery Store\nFalse:  Smoothie Shop\nFalse:  Science Museum\nTrue:  Vegetarian / Vegan Restaurant\nFalse:  Hobby Shop\nFalse:  Lawyer\nFalse:  Museum\nFalse:  Vietnamese Restaurant\nFalse:  Sushi Restaurant\nFalse:  BBQ Joint\nFalse:  American Restaurant\nFalse:  Asian Restaurant\nFalse:  Neighborhood\nFalse:  Hotel\nFalse:  Sandwich Place\nFalse:  Chinese Restaurant\nFalse:  Monument / Landmark\nFalse:  Baseball Stadium\nFalse:  Breakfast Spot\nFalse:  History Museum\nFalse:  Taco Place\nFalse:  Steakhouse\nFalse:  Rental Car Location\nFalse:  Cosmetics Shop\nFalse:  Sporting Goods Shop\nFalse:  Skate Park\nFalse:  Diner\nFalse:  Record Shop\nFalse:  Bistro\nFalse:  Nightclub\nFalse:  Pizza Place\nFalse:  French Restaurant\nFalse:  Multiplex\nFalse:  Liquor Store\nFalse:  Sports Bar\nFalse:  Plaza\nFalse:  Cocktail Bar\nFalse:  Candy Store\nFalse:  Fast Food Restaurant\nFalse:  Video Store\nFalse:  Frozen Yogurt Shop\nFalse:  Bakery\nFalse:  Art Museum\nFalse:  Performing Arts Venue\nFalse:  Garden\nFalse:  Wine Shop\nFalse:  Accessories Store\nFalse:  Gun Shop\nFalse:  Toy / Game Store\nFalse:  Donut Shop\nFalse:  Sculpture Garden\nFalse:  Event Space\nFalse:  Home Service\nFalse:  Medical Center\nFalse:  Electronics Store\nFalse:  Arts & Crafts Store\nFalse:  Soup Place\nFalse:  Locksmith\nFalse:  Furniture / Home Store\nFalse:  Gaming Cafe\nFalse:  Seafood Restaurant\nFalse:  Movie Theater\nFalse:  Doctor's Office\nFalse:  Hookah Bar\nFalse:  Clothing Store\nFalse:  Coffee Shop\nFalse:  Gay Bar\nFalse:  Lounge\nFalse:  Spa\nFalse:  Antique Shop\nFalse:  Restaurant\nFalse:  Theater\nFalse:  Noodle House\nTrue:  Athletics & Sports\nFalse:  Tea Room\nFalse:  Art Gallery\nFalse:  Burger Joint\nFalse:  Pharmacy\nFalse:  Korean Restaurant\nFalse:  Intersection\nFalse:  Latin American Restaurant\nTrue:  Tennis Court\nFalse:  Flower Shop\nFalse:  Paper / Office Supplies Store\nFalse:  Caf\u00e9\nFalse:  Airport Terminal\nFalse:  Gastropub\nFalse:  Italian Restaurant\nFalse:  Boutique\nFalse:  Bookstore\nFalse:  Ice Cream Shop\nFalse:  Business Service\nFalse:  Skating Rink\nFalse:  Butcher\nFalse:  Music Store\nFalse:  Camera Store\nFalse:  Tourist Information Center\nFalse:  Mexican Restaurant\nFalse:  Thrift / Vintage Store\nFalse:  Indie Theater\nFalse:  Dance Studio\nFalse:  Other Repair Shop\nFalse:  New American Restaurant\nFalse:  Music Venue\nFalse:  Park\nFalse:  Salon / Barbershop\nTrue:  Yoga Studio\nFalse:  Gourmet Shop\nFalse:  Convenience Store\nFalse:  Brewery\nFalse:  Concert Hall\nFalse:  Rock Club\nFalse:  Japanese Restaurant\nFalse:  Cafeteria\nFalse:  Gym\nFalse:  Construction & Landscaping\n"
                }
            ], 
            "execution_count": 92
        }, 
        {
            "source": "Works.", 
            "cell_type": "markdown", 
            "metadata": {}
        }, 
        {
            "source": "### Find coordinate center of all venues\n\nIn order to analyze the geographic spread of the venues, the center of the venues has to be determined first. This is done by averaging all coordinates, weighted by the number of venues there.", 
            "cell_type": "markdown", 
            "metadata": {}
        }, 
        {
            "source": "### >>> find_venues_distance_to_center", 
            "cell_type": "markdown", 
            "metadata": {}
        }, 
        {
            "source": "def find_venues_distance_to_center(venues_agg_df):\n    '''\n    Appends or updates x/y and distance-to-center columns of venues_agg_df.\n    Also returns some aggregates that were calculated along the way.\n    '''\n    \n    x, y = zip(*venues_agg_df['coord'])\n    total_num_venues = venues_agg_df['num_venues'].sum()\n    total_num_indicators = venues_agg_df['num_indicators'].sum()\n    center_x = ( x * venues_agg_df['num_venues'] ).sum() / total_num_venues\n    center_y = ( y * venues_agg_df['num_venues'] ).sum() / total_num_venues\n    dx = x - center_x\n    dy = y - center_y\n    dist2 = dx * dx + dy * dy\n    venues_agg_df['dist'] = np.sqrt(dist2)\n    \n    return center_x, center_y, total_num_venues, total_num_indicators\n", 
            "cell_type": "code", 
            "metadata": {}, 
            "outputs": [], 
            "execution_count": 93
        }, 
        {
            "source": "# test the function\ncenter_x, center_y, total_num_venues, total_num_indicators = find_venues_distance_to_center(venues_agg_df)\nprint('Test set coordinate center of {0:}, {1:} is at ({2:.2f}, {3:.2f}). Indicator / total venues: {4:} / {5:} ({6:.1f}%)'.format(\n    city_name, city_state, center_x, center_y, total_num_indicators, total_num_venues,\n    total_num_indicators * 100 / total_num_venues))\nprint('\\nFirst five Euclidean coordinate distances to the center:\\n\\n{}'.format(venues_agg_df.head(5)))\n\n", 
            "cell_type": "code", 
            "metadata": {}, 
            "outputs": [
                {
                    "output_type": "stream", 
                    "name": "stdout", 
                    "text": "Test set coordinate center of Wichita, Kansas is at (2.04, -0.84). Indicator / total venues: 24 / 1234 (1.9%)\n\nFirst five Euclidean coordinate distances to the center:\n\n     coord  num_venues  num_indicators      dist\n0  (5, -1)          24               1  2.966477\n1  (5, -2)          24               1  3.182609\n2   (0, 0)          43               4  2.202692\n3  (-1, 0)          33               1  3.150877\n4  (3, -3)          29               0  2.368620\n"
                }
            ], 
            "execution_count": 94
        }, 
        {
            "source": "### Gather distribution statistics\n\nNow gather ... TODO TBD something", 
            "cell_type": "markdown", 
            "metadata": {}
        }, 
        {
            "source": "### >>> gather_distribution_stats", 
            "cell_type": "markdown", 
            "metadata": {}
        }, 
        {
            "source": "def gather_distribution_stats(venues_agg_df):\n    center_x, center_y, total_num_venues, total_num_indicators = find_venues_distance_to_center(venues_agg_df)\n    \n    ", 
            "cell_type": "code", 
            "metadata": {}, 
            "outputs": [], 
            "execution_count": 95
        }, 
        {
            "source": "", 
            "cell_type": "code", 
            "metadata": {}, 
            "outputs": [], 
            "execution_count": null
        }, 
        {
            "source": "", 
            "cell_type": "code", 
            "metadata": {}, 
            "outputs": [], 
            "execution_count": null
        }
    ], 
    "metadata": {
        "kernelspec": {
            "display_name": "Python 3.5", 
            "name": "python3", 
            "language": "python"
        }, 
        "language_info": {
            "mimetype": "text/x-python", 
            "nbconvert_exporter": "python", 
            "version": "3.5.5", 
            "name": "python", 
            "file_extension": ".py", 
            "pygments_lexer": "ipython3", 
            "codemirror_mode": {
                "version": 3, 
                "name": "ipython"
            }
        }
    }, 
    "nbformat": 4
}